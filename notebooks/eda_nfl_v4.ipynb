{
 "cells": [
  {
   "attachments": {},
   "cell_type": "markdown",
   "metadata": {},
   "source": [
    " ## <a id='0'> **1. ANÁLISIS EXPLORATORIO DE DATOS (EDA) - NFL 🏈** </a>\n",
    "##### *THE BRIDGE - DATA_SCIENCE 2023*\n",
    " <a id='0'> ![Cover](/Users/ivanlamb/Desktop/Workspace/eda_nfl/src/img/Eda_cover.png)</h1>"
   ]
  },
  {
   "attachments": {},
   "cell_type": "markdown",
   "metadata": {
    "tags": []
   },
   "source": [
    "## <a id='1'> *ÍNDICE:* </a>\n",
    "---\n",
    "- [1. Introducción:](#3)\n",
    "    - [1.1. Hipótesis](#11)\n",
    "    - [1.2. Limpieza de datos](5#)\n",
    "        - [1.2.1 ](44#)\n",
    "        - [1.2.3 Visualización](123#)\n",
    "- [2. Conclusiones](#4)"
   ]
  },
  {
   "attachments": {},
   "cell_type": "markdown",
   "metadata": {},
   "source": [
    "-----\n",
    "####  *Contacto*:\n",
    "*Aquí podrás encontrar mi perfil personal*:\n",
    "-   [LinkedIn](https://www.linkedin.com/in/ivancorderoc/) ![LinkedIn](/Users/ivanlamb/Desktop/Workspace/eda_nfl/src/img/linkedin.png)\n",
    "\n",
    "*Para dudas y consultas*:\n",
    "-   [Gmail](ivan.corderocueva@gmail.com) ![Gmail](/Users/ivanlamb/Desktop/Workspace/eda_nfl/src/img/gmail.png)\n",
    "\n",
    "*Mi baúl con todos mis proyectos:\n",
    "-   [GitHub](https://github.com/ivancorderoc) ![GitHub](/Users/ivanlamb/Desktop/Workspace/eda_nfl/src/img/github.png)\n",
    "-----"
   ]
  },
  {
   "attachments": {},
   "cell_type": "markdown",
   "metadata": {},
   "source": [
    "# <a id='3'>1. Introducción</a>"
   ]
  },
  {
   "attachments": {},
   "cell_type": "markdown",
   "metadata": {},
   "source": [
    "#### Este estudio se ha realizado gracias a una libreria dedica a la NFL y a Wikipedia.\n",
    "\n",
    "La idea fundamental del proyecto es dilucidar si el estar sano influye significativamnete en el éxito de jugador. \n",
    "Así como también si a pesar de esas lesiones su grado de desempeño en el campo le permite ser un jugador referente."
   ]
  },
  {
   "attachments": {},
   "cell_type": "markdown",
   "metadata": {},
   "source": [
    " ### <a id='4'> ***1.1 Hipótesis.*** </a>\n",
    "\n",
    "1.  **¿Cuál es la relación entre lesiones y éxito en la NFL?**\n",
    "2.  **¿Las consideras lesiones severas son las más habituales?**\n",
    "3.  **¿Las lesiones leves pueden terminar con la carrera de los profesionales?**    \n",
    "4.  **¿En qué época de la temporada regular existen más lesiones?**\n",
    "5.  **¿Cuál es la posición que tiende lesionarse?**\n",
    "6.  **¿Qué hace la NFL para intentar reducir el número de lesiones para que no acaben con la carrera/vida de los jugadores? *(pregunta a futuro)***\n"
   ]
  },
  {
   "attachments": {},
   "cell_type": "markdown",
   "metadata": {},
   "source": [
    " ### <a id='4'> ***1.1 Limpieza de datos.*** </a>"
   ]
  },
  {
   "attachments": {},
   "cell_type": "markdown",
   "metadata": {},
   "source": [
    "**Presentación de nuestros datasets**."
   ]
  },
  {
   "cell_type": "code",
   "execution_count": 34,
   "metadata": {},
   "outputs": [],
   "source": [
    "import pandas as pd\n",
    "import numpy as np\n",
    "import matplotlib.pyplot as plt\n",
    "import seaborn as sns\n",
    "import warnings\n",
    "import os\n",
    "from scipy.stats import chi2_contingency\n",
    "warnings.filterwarnings(\"ignore\")"
   ]
  },
  {
   "cell_type": "code",
   "execution_count": 35,
   "metadata": {},
   "outputs": [],
   "source": [
    "# Asignamos variables a los datasets con los que vamos a trabajar.\n",
    "ranks_nfl = pd.read_csv(\"/Users/ivanlamb/Desktop/Workspace/eda_nfl/src/data/processed/ranks_nfl.csv\")\n",
    "injuries = pd.read_csv(\"/Users/ivanlamb/Desktop/Workspace/eda_nfl/src/data/processed/injuries.csv\")"
   ]
  },
  {
   "cell_type": "code",
   "execution_count": 36,
   "metadata": {},
   "outputs": [
    {
     "data": {
      "text/html": [
       "<div>\n",
       "<style scoped>\n",
       "    .dataframe tbody tr th:only-of-type {\n",
       "        vertical-align: middle;\n",
       "    }\n",
       "\n",
       "    .dataframe tbody tr th {\n",
       "        vertical-align: top;\n",
       "    }\n",
       "\n",
       "    .dataframe thead th {\n",
       "        text-align: right;\n",
       "    }\n",
       "</style>\n",
       "<table border=\"1\" class=\"dataframe\">\n",
       "  <thead>\n",
       "    <tr style=\"text-align: right;\">\n",
       "      <th></th>\n",
       "      <th>Rank</th>\n",
       "      <th>Player</th>\n",
       "      <th>Position</th>\n",
       "      <th>2010 Team</th>\n",
       "      <th>2011 Team</th>\n",
       "      <th>Reference</th>\n",
       "      <th>Year</th>\n",
       "      <th>2012 Team</th>\n",
       "      <th>Rank Change</th>\n",
       "      <th>2013 Team</th>\n",
       "      <th>2014 Team</th>\n",
       "      <th>2015 Team</th>\n",
       "      <th>2015 team</th>\n",
       "      <th>2016 team</th>\n",
       "      <th>Rank change</th>\n",
       "      <th>2017 team</th>\n",
       "      <th>Year accomplishments</th>\n",
       "      <th>2018 team</th>\n",
       "      <th>2019 team</th>\n",
       "      <th>2020 team</th>\n",
       "    </tr>\n",
       "  </thead>\n",
       "  <tbody>\n",
       "    <tr>\n",
       "      <th>0</th>\n",
       "      <td>1</td>\n",
       "      <td>Tom Brady</td>\n",
       "      <td>Quarterback</td>\n",
       "      <td>New England Patriots</td>\n",
       "      <td>NaN</td>\n",
       "      <td>1.0</td>\n",
       "      <td>2010.0</td>\n",
       "      <td>NaN</td>\n",
       "      <td>NaN</td>\n",
       "      <td>NaN</td>\n",
       "      <td>NaN</td>\n",
       "      <td>NaN</td>\n",
       "      <td>NaN</td>\n",
       "      <td>NaN</td>\n",
       "      <td>NaN</td>\n",
       "      <td>NaN</td>\n",
       "      <td>NaN</td>\n",
       "      <td>NaN</td>\n",
       "      <td>NaN</td>\n",
       "      <td>NaN</td>\n",
       "    </tr>\n",
       "    <tr>\n",
       "      <th>1</th>\n",
       "      <td>2</td>\n",
       "      <td>Peyton Manning</td>\n",
       "      <td>Quarterback</td>\n",
       "      <td>Indianapolis Colts</td>\n",
       "      <td>NaN</td>\n",
       "      <td>2.0</td>\n",
       "      <td>2010.0</td>\n",
       "      <td>NaN</td>\n",
       "      <td>NaN</td>\n",
       "      <td>NaN</td>\n",
       "      <td>NaN</td>\n",
       "      <td>NaN</td>\n",
       "      <td>NaN</td>\n",
       "      <td>NaN</td>\n",
       "      <td>NaN</td>\n",
       "      <td>NaN</td>\n",
       "      <td>NaN</td>\n",
       "      <td>NaN</td>\n",
       "      <td>NaN</td>\n",
       "      <td>NaN</td>\n",
       "    </tr>\n",
       "    <tr>\n",
       "      <th>2</th>\n",
       "      <td>3</td>\n",
       "      <td>Adrian Peterson</td>\n",
       "      <td>Running back</td>\n",
       "      <td>Minnesota Vikings</td>\n",
       "      <td>NaN</td>\n",
       "      <td>3.0</td>\n",
       "      <td>2010.0</td>\n",
       "      <td>NaN</td>\n",
       "      <td>NaN</td>\n",
       "      <td>NaN</td>\n",
       "      <td>NaN</td>\n",
       "      <td>NaN</td>\n",
       "      <td>NaN</td>\n",
       "      <td>NaN</td>\n",
       "      <td>NaN</td>\n",
       "      <td>NaN</td>\n",
       "      <td>NaN</td>\n",
       "      <td>NaN</td>\n",
       "      <td>NaN</td>\n",
       "      <td>NaN</td>\n",
       "    </tr>\n",
       "    <tr>\n",
       "      <th>3</th>\n",
       "      <td>4</td>\n",
       "      <td>Ray Lewis</td>\n",
       "      <td>Linebacker</td>\n",
       "      <td>Baltimore Ravens</td>\n",
       "      <td>NaN</td>\n",
       "      <td>4.0</td>\n",
       "      <td>2010.0</td>\n",
       "      <td>NaN</td>\n",
       "      <td>NaN</td>\n",
       "      <td>NaN</td>\n",
       "      <td>NaN</td>\n",
       "      <td>NaN</td>\n",
       "      <td>NaN</td>\n",
       "      <td>NaN</td>\n",
       "      <td>NaN</td>\n",
       "      <td>NaN</td>\n",
       "      <td>NaN</td>\n",
       "      <td>NaN</td>\n",
       "      <td>NaN</td>\n",
       "      <td>NaN</td>\n",
       "    </tr>\n",
       "    <tr>\n",
       "      <th>4</th>\n",
       "      <td>5</td>\n",
       "      <td>Ed Reed</td>\n",
       "      <td>Safety</td>\n",
       "      <td>Baltimore Ravens</td>\n",
       "      <td>NaN</td>\n",
       "      <td>5.0</td>\n",
       "      <td>2010.0</td>\n",
       "      <td>NaN</td>\n",
       "      <td>NaN</td>\n",
       "      <td>NaN</td>\n",
       "      <td>NaN</td>\n",
       "      <td>NaN</td>\n",
       "      <td>NaN</td>\n",
       "      <td>NaN</td>\n",
       "      <td>NaN</td>\n",
       "      <td>NaN</td>\n",
       "      <td>NaN</td>\n",
       "      <td>NaN</td>\n",
       "      <td>NaN</td>\n",
       "      <td>NaN</td>\n",
       "    </tr>\n",
       "    <tr>\n",
       "      <th>5</th>\n",
       "      <td>6</td>\n",
       "      <td>Troy Polamalu</td>\n",
       "      <td>Safety</td>\n",
       "      <td>Pittsburgh Steelers</td>\n",
       "      <td>NaN</td>\n",
       "      <td>6.0</td>\n",
       "      <td>2010.0</td>\n",
       "      <td>NaN</td>\n",
       "      <td>NaN</td>\n",
       "      <td>NaN</td>\n",
       "      <td>NaN</td>\n",
       "      <td>NaN</td>\n",
       "      <td>NaN</td>\n",
       "      <td>NaN</td>\n",
       "      <td>NaN</td>\n",
       "      <td>NaN</td>\n",
       "      <td>NaN</td>\n",
       "      <td>NaN</td>\n",
       "      <td>NaN</td>\n",
       "      <td>NaN</td>\n",
       "    </tr>\n",
       "    <tr>\n",
       "      <th>6</th>\n",
       "      <td>7</td>\n",
       "      <td>Andre Johnson</td>\n",
       "      <td>Wide receiver</td>\n",
       "      <td>Houston Texans</td>\n",
       "      <td>NaN</td>\n",
       "      <td>7.0</td>\n",
       "      <td>2010.0</td>\n",
       "      <td>NaN</td>\n",
       "      <td>NaN</td>\n",
       "      <td>NaN</td>\n",
       "      <td>NaN</td>\n",
       "      <td>NaN</td>\n",
       "      <td>NaN</td>\n",
       "      <td>NaN</td>\n",
       "      <td>NaN</td>\n",
       "      <td>NaN</td>\n",
       "      <td>NaN</td>\n",
       "      <td>NaN</td>\n",
       "      <td>NaN</td>\n",
       "      <td>NaN</td>\n",
       "    </tr>\n",
       "    <tr>\n",
       "      <th>7</th>\n",
       "      <td>8</td>\n",
       "      <td>Darrelle Revis</td>\n",
       "      <td>Cornerback</td>\n",
       "      <td>New York Jets</td>\n",
       "      <td>NaN</td>\n",
       "      <td>8.0</td>\n",
       "      <td>2010.0</td>\n",
       "      <td>NaN</td>\n",
       "      <td>NaN</td>\n",
       "      <td>NaN</td>\n",
       "      <td>NaN</td>\n",
       "      <td>NaN</td>\n",
       "      <td>NaN</td>\n",
       "      <td>NaN</td>\n",
       "      <td>NaN</td>\n",
       "      <td>NaN</td>\n",
       "      <td>NaN</td>\n",
       "      <td>NaN</td>\n",
       "      <td>NaN</td>\n",
       "      <td>NaN</td>\n",
       "    </tr>\n",
       "    <tr>\n",
       "      <th>8</th>\n",
       "      <td>9</td>\n",
       "      <td>Drew Brees</td>\n",
       "      <td>Quarterback</td>\n",
       "      <td>New Orleans Saints</td>\n",
       "      <td>NaN</td>\n",
       "      <td>9.0</td>\n",
       "      <td>2010.0</td>\n",
       "      <td>NaN</td>\n",
       "      <td>NaN</td>\n",
       "      <td>NaN</td>\n",
       "      <td>NaN</td>\n",
       "      <td>NaN</td>\n",
       "      <td>NaN</td>\n",
       "      <td>NaN</td>\n",
       "      <td>NaN</td>\n",
       "      <td>NaN</td>\n",
       "      <td>NaN</td>\n",
       "      <td>NaN</td>\n",
       "      <td>NaN</td>\n",
       "      <td>NaN</td>\n",
       "    </tr>\n",
       "    <tr>\n",
       "      <th>9</th>\n",
       "      <td>10</td>\n",
       "      <td>Julius Peppers</td>\n",
       "      <td>Defensive end</td>\n",
       "      <td>Chicago Bears</td>\n",
       "      <td>NaN</td>\n",
       "      <td>NaN</td>\n",
       "      <td>2010.0</td>\n",
       "      <td>NaN</td>\n",
       "      <td>NaN</td>\n",
       "      <td>NaN</td>\n",
       "      <td>NaN</td>\n",
       "      <td>NaN</td>\n",
       "      <td>NaN</td>\n",
       "      <td>NaN</td>\n",
       "      <td>NaN</td>\n",
       "      <td>NaN</td>\n",
       "      <td>NaN</td>\n",
       "      <td>NaN</td>\n",
       "      <td>NaN</td>\n",
       "      <td>NaN</td>\n",
       "    </tr>\n",
       "  </tbody>\n",
       "</table>\n",
       "</div>"
      ],
      "text/plain": [
       "   Rank           Player       Position             2010 Team 2011 Team  \\\n",
       "0     1        Tom Brady    Quarterback  New England Patriots       NaN   \n",
       "1     2   Peyton Manning    Quarterback    Indianapolis Colts       NaN   \n",
       "2     3  Adrian Peterson   Running back     Minnesota Vikings       NaN   \n",
       "3     4        Ray Lewis     Linebacker      Baltimore Ravens       NaN   \n",
       "4     5          Ed Reed         Safety      Baltimore Ravens       NaN   \n",
       "5     6    Troy Polamalu         Safety   Pittsburgh Steelers       NaN   \n",
       "6     7    Andre Johnson  Wide receiver        Houston Texans       NaN   \n",
       "7     8   Darrelle Revis     Cornerback         New York Jets       NaN   \n",
       "8     9       Drew Brees    Quarterback    New Orleans Saints       NaN   \n",
       "9    10   Julius Peppers  Defensive end         Chicago Bears       NaN   \n",
       "\n",
       "  Reference    Year 2012 Team Rank Change 2013 Team 2014 Team 2015 Team  \\\n",
       "0       1.0  2010.0       NaN         NaN       NaN       NaN       NaN   \n",
       "1       2.0  2010.0       NaN         NaN       NaN       NaN       NaN   \n",
       "2       3.0  2010.0       NaN         NaN       NaN       NaN       NaN   \n",
       "3       4.0  2010.0       NaN         NaN       NaN       NaN       NaN   \n",
       "4       5.0  2010.0       NaN         NaN       NaN       NaN       NaN   \n",
       "5       6.0  2010.0       NaN         NaN       NaN       NaN       NaN   \n",
       "6       7.0  2010.0       NaN         NaN       NaN       NaN       NaN   \n",
       "7       8.0  2010.0       NaN         NaN       NaN       NaN       NaN   \n",
       "8       9.0  2010.0       NaN         NaN       NaN       NaN       NaN   \n",
       "9       NaN  2010.0       NaN         NaN       NaN       NaN       NaN   \n",
       "\n",
       "  2015 team 2016 team Rank change 2017 team Year accomplishments 2018 team  \\\n",
       "0       NaN       NaN         NaN       NaN                  NaN       NaN   \n",
       "1       NaN       NaN         NaN       NaN                  NaN       NaN   \n",
       "2       NaN       NaN         NaN       NaN                  NaN       NaN   \n",
       "3       NaN       NaN         NaN       NaN                  NaN       NaN   \n",
       "4       NaN       NaN         NaN       NaN                  NaN       NaN   \n",
       "5       NaN       NaN         NaN       NaN                  NaN       NaN   \n",
       "6       NaN       NaN         NaN       NaN                  NaN       NaN   \n",
       "7       NaN       NaN         NaN       NaN                  NaN       NaN   \n",
       "8       NaN       NaN         NaN       NaN                  NaN       NaN   \n",
       "9       NaN       NaN         NaN       NaN                  NaN       NaN   \n",
       "\n",
       "  2019 team 2020 team  \n",
       "0       NaN       NaN  \n",
       "1       NaN       NaN  \n",
       "2       NaN       NaN  \n",
       "3       NaN       NaN  \n",
       "4       NaN       NaN  \n",
       "5       NaN       NaN  \n",
       "6       NaN       NaN  \n",
       "7       NaN       NaN  \n",
       "8       NaN       NaN  \n",
       "9       NaN       NaN  "
      ]
     },
     "execution_count": 36,
     "metadata": {},
     "output_type": "execute_result"
    }
   ],
   "source": [
    "ranks_nfl.head(10)"
   ]
  },
  {
   "cell_type": "code",
   "execution_count": 37,
   "metadata": {},
   "outputs": [
    {
     "name": "stdout",
     "output_type": "stream",
     "text": [
      "(1000, 20)\n",
      "<class 'pandas.core.frame.DataFrame'>\n",
      "RangeIndex: 1000 entries, 0 to 999\n",
      "Data columns (total 20 columns):\n",
      " #   Column                Non-Null Count  Dtype  \n",
      "---  ------                --------------  -----  \n",
      " 0   Rank                  1000 non-null   int64  \n",
      " 1   Player                1000 non-null   object \n",
      " 2   Position              1000 non-null   object \n",
      " 3   2010 Team             100 non-null    object \n",
      " 4   2011 Team             108 non-null    object \n",
      " 5   Reference             974 non-null    object \n",
      " 6   Year                  1000 non-null   float64\n",
      " 7   2012 Team             105 non-null    object \n",
      " 8   Rank Change           400 non-null    object \n",
      " 9   2013 Team             111 non-null    object \n",
      " 10  2014 Team             106 non-null    object \n",
      " 11  2015 Team             9 non-null      object \n",
      " 12  2015 team             100 non-null    object \n",
      " 13  2016 team             105 non-null    object \n",
      " 14  Rank change           500 non-null    object \n",
      " 15  2017 team             103 non-null    object \n",
      " 16  Year accomplishments  370 non-null    object \n",
      " 17  2018 team             111 non-null    object \n",
      " 18  2019 team             110 non-null    object \n",
      " 19  2020 team             15 non-null     object \n",
      "dtypes: float64(1), int64(1), object(18)\n",
      "memory usage: 156.4+ KB\n",
      "None\n"
     ]
    }
   ],
   "source": [
    "# Vemos la informacion que nos da el *primer dataset*\n",
    "print(ranks_nfl.shape)\n",
    "print(ranks_nfl.info())"
   ]
  },
  {
   "cell_type": "code",
   "execution_count": 38,
   "metadata": {},
   "outputs": [
    {
     "name": "stdout",
     "output_type": "stream",
     "text": [
      "Rank                    100\n",
      "Player                  403\n",
      "Position                 20\n",
      "2010 Team                30\n",
      "2011 Team                34\n",
      "Reference               274\n",
      "Year                     10\n",
      "2012 Team                32\n",
      "Rank Change              68\n",
      "2013 Team                33\n",
      "2014 Team                31\n",
      "2015 Team                 8\n",
      "2015 team                32\n",
      "2016 team                30\n",
      "Rank change              68\n",
      "2017 team                29\n",
      "Year accomplishments    303\n",
      "2018 team                32\n",
      "2019 team                33\n",
      "2020 team                14\n",
      "dtype: int64\n"
     ]
    }
   ],
   "source": [
    "# Vemos los unicos de cada columna\n",
    "print(ranks_nfl.nunique())"
   ]
  },
  {
   "cell_type": "code",
   "execution_count": 39,
   "metadata": {},
   "outputs": [
    {
     "data": {
      "text/html": [
       "<div>\n",
       "<style scoped>\n",
       "    .dataframe tbody tr th:only-of-type {\n",
       "        vertical-align: middle;\n",
       "    }\n",
       "\n",
       "    .dataframe tbody tr th {\n",
       "        vertical-align: top;\n",
       "    }\n",
       "\n",
       "    .dataframe thead th {\n",
       "        text-align: right;\n",
       "    }\n",
       "</style>\n",
       "<table border=\"1\" class=\"dataframe\">\n",
       "  <thead>\n",
       "    <tr style=\"text-align: right;\">\n",
       "      <th></th>\n",
       "      <th>season</th>\n",
       "      <th>game_type</th>\n",
       "      <th>team</th>\n",
       "      <th>week</th>\n",
       "      <th>gsis_id</th>\n",
       "      <th>position</th>\n",
       "      <th>full_name</th>\n",
       "      <th>first_name</th>\n",
       "      <th>last_name</th>\n",
       "      <th>report_primary_injury</th>\n",
       "      <th>report_secondary_injury</th>\n",
       "      <th>report_status</th>\n",
       "      <th>practice_primary_injury</th>\n",
       "      <th>practice_secondary_injury</th>\n",
       "      <th>practice_status</th>\n",
       "      <th>date_modified</th>\n",
       "    </tr>\n",
       "  </thead>\n",
       "  <tbody>\n",
       "    <tr>\n",
       "      <th>0</th>\n",
       "      <td>2010.0</td>\n",
       "      <td>REG</td>\n",
       "      <td>ARI</td>\n",
       "      <td>1.0</td>\n",
       "      <td>00-0027007</td>\n",
       "      <td>RB</td>\n",
       "      <td>Chris Wells</td>\n",
       "      <td>Chris</td>\n",
       "      <td>Wells</td>\n",
       "      <td>Knee</td>\n",
       "      <td>NaN</td>\n",
       "      <td>Questionable</td>\n",
       "      <td>Knee</td>\n",
       "      <td>NaN</td>\n",
       "      <td>Did Not Participate In Practice</td>\n",
       "      <td>2010-09-10 12:13:53</td>\n",
       "    </tr>\n",
       "    <tr>\n",
       "      <th>1</th>\n",
       "      <td>2010.0</td>\n",
       "      <td>REG</td>\n",
       "      <td>ARI</td>\n",
       "      <td>1.0</td>\n",
       "      <td>00-0022288</td>\n",
       "      <td>RB</td>\n",
       "      <td>Jason Wright</td>\n",
       "      <td>Jason</td>\n",
       "      <td>Wright</td>\n",
       "      <td>Toe</td>\n",
       "      <td>NaN</td>\n",
       "      <td>Questionable</td>\n",
       "      <td>Toe</td>\n",
       "      <td>NaN</td>\n",
       "      <td>Limited Participation in Practice</td>\n",
       "      <td>2010-09-10 12:13:44</td>\n",
       "    </tr>\n",
       "    <tr>\n",
       "      <th>2</th>\n",
       "      <td>2010.0</td>\n",
       "      <td>REG</td>\n",
       "      <td>ARI</td>\n",
       "      <td>1.0</td>\n",
       "      <td>00-0025668</td>\n",
       "      <td>CB</td>\n",
       "      <td>Michael Adams</td>\n",
       "      <td>Michael</td>\n",
       "      <td>Adams</td>\n",
       "      <td>Shoulder</td>\n",
       "      <td>NaN</td>\n",
       "      <td>Probable</td>\n",
       "      <td>Shoulder</td>\n",
       "      <td>NaN</td>\n",
       "      <td>Full Participation in Practice</td>\n",
       "      <td>NaN</td>\n",
       "    </tr>\n",
       "    <tr>\n",
       "      <th>3</th>\n",
       "      <td>2010.0</td>\n",
       "      <td>REG</td>\n",
       "      <td>ARI</td>\n",
       "      <td>1.0</td>\n",
       "      <td>00-0026939</td>\n",
       "      <td>LB</td>\n",
       "      <td>Will Davis</td>\n",
       "      <td>Will</td>\n",
       "      <td>Davis</td>\n",
       "      <td>Knee</td>\n",
       "      <td>NaN</td>\n",
       "      <td>Probable</td>\n",
       "      <td>Knee</td>\n",
       "      <td>NaN</td>\n",
       "      <td>Full Participation in Practice</td>\n",
       "      <td>NaN</td>\n",
       "    </tr>\n",
       "    <tr>\n",
       "      <th>4</th>\n",
       "      <td>2010.0</td>\n",
       "      <td>REG</td>\n",
       "      <td>ARI</td>\n",
       "      <td>1.0</td>\n",
       "      <td>00-0022921</td>\n",
       "      <td>WR</td>\n",
       "      <td>Larry Fitzgerald</td>\n",
       "      <td>Larry</td>\n",
       "      <td>Fitzgerald</td>\n",
       "      <td>Knee</td>\n",
       "      <td>NaN</td>\n",
       "      <td>Probable</td>\n",
       "      <td>Knee</td>\n",
       "      <td>NaN</td>\n",
       "      <td>Full Participation in Practice</td>\n",
       "      <td>NaN</td>\n",
       "    </tr>\n",
       "    <tr>\n",
       "      <th>5</th>\n",
       "      <td>2010.0</td>\n",
       "      <td>REG</td>\n",
       "      <td>ARI</td>\n",
       "      <td>1.0</td>\n",
       "      <td>00-0025602</td>\n",
       "      <td>TE</td>\n",
       "      <td>Ben Patrick</td>\n",
       "      <td>Ben</td>\n",
       "      <td>Patrick</td>\n",
       "      <td>Knee</td>\n",
       "      <td>NaN</td>\n",
       "      <td>Probable</td>\n",
       "      <td>Knee</td>\n",
       "      <td>NaN</td>\n",
       "      <td>Full Participation in Practice</td>\n",
       "      <td>NaN</td>\n",
       "    </tr>\n",
       "    <tr>\n",
       "      <th>6</th>\n",
       "      <td>2010.0</td>\n",
       "      <td>REG</td>\n",
       "      <td>ARI</td>\n",
       "      <td>1.0</td>\n",
       "      <td>00-0013126</td>\n",
       "      <td>LB</td>\n",
       "      <td>Joey Porter</td>\n",
       "      <td>Joey</td>\n",
       "      <td>Porter</td>\n",
       "      <td>Back</td>\n",
       "      <td>NaN</td>\n",
       "      <td>Probable</td>\n",
       "      <td>Back</td>\n",
       "      <td>NaN</td>\n",
       "      <td>Full Participation in Practice</td>\n",
       "      <td>NaN</td>\n",
       "    </tr>\n",
       "    <tr>\n",
       "      <th>7</th>\n",
       "      <td>2010.0</td>\n",
       "      <td>REG</td>\n",
       "      <td>ARI</td>\n",
       "      <td>1.0</td>\n",
       "      <td>00-0027691</td>\n",
       "      <td>WR</td>\n",
       "      <td>Andre Roberts</td>\n",
       "      <td>Andre</td>\n",
       "      <td>Roberts</td>\n",
       "      <td>Shoulder</td>\n",
       "      <td>NaN</td>\n",
       "      <td>Probable</td>\n",
       "      <td>Shoulder</td>\n",
       "      <td>NaN</td>\n",
       "      <td>Full Participation in Practice</td>\n",
       "      <td>NaN</td>\n",
       "    </tr>\n",
       "    <tr>\n",
       "      <th>8</th>\n",
       "      <td>2010.0</td>\n",
       "      <td>REG</td>\n",
       "      <td>ATL</td>\n",
       "      <td>1.0</td>\n",
       "      <td>00-0022781</td>\n",
       "      <td>WR</td>\n",
       "      <td>Michael Jenkins</td>\n",
       "      <td>Michael</td>\n",
       "      <td>Jenkins</td>\n",
       "      <td>Shoulder</td>\n",
       "      <td>NaN</td>\n",
       "      <td>Out</td>\n",
       "      <td>Shoulder</td>\n",
       "      <td>NaN</td>\n",
       "      <td>Did Not Participate In Practice</td>\n",
       "      <td>2010-09-10 12:53:27</td>\n",
       "    </tr>\n",
       "    <tr>\n",
       "      <th>9</th>\n",
       "      <td>2010.0</td>\n",
       "      <td>REG</td>\n",
       "      <td>ATL</td>\n",
       "      <td>1.0</td>\n",
       "      <td>00-0024183</td>\n",
       "      <td>CB</td>\n",
       "      <td>Brent Grimes</td>\n",
       "      <td>Brent</td>\n",
       "      <td>Grimes</td>\n",
       "      <td>Hip</td>\n",
       "      <td>NaN</td>\n",
       "      <td>Questionable</td>\n",
       "      <td>Hip</td>\n",
       "      <td>NaN</td>\n",
       "      <td>Full Participation in Practice</td>\n",
       "      <td>2010-09-10 12:52:50</td>\n",
       "    </tr>\n",
       "  </tbody>\n",
       "</table>\n",
       "</div>"
      ],
      "text/plain": [
       "   season game_type team  week     gsis_id position         full_name  \\\n",
       "0  2010.0       REG  ARI   1.0  00-0027007       RB       Chris Wells   \n",
       "1  2010.0       REG  ARI   1.0  00-0022288       RB      Jason Wright   \n",
       "2  2010.0       REG  ARI   1.0  00-0025668       CB     Michael Adams   \n",
       "3  2010.0       REG  ARI   1.0  00-0026939       LB        Will Davis   \n",
       "4  2010.0       REG  ARI   1.0  00-0022921       WR  Larry Fitzgerald   \n",
       "5  2010.0       REG  ARI   1.0  00-0025602       TE       Ben Patrick   \n",
       "6  2010.0       REG  ARI   1.0  00-0013126       LB       Joey Porter   \n",
       "7  2010.0       REG  ARI   1.0  00-0027691       WR     Andre Roberts   \n",
       "8  2010.0       REG  ATL   1.0  00-0022781       WR   Michael Jenkins   \n",
       "9  2010.0       REG  ATL   1.0  00-0024183       CB      Brent Grimes   \n",
       "\n",
       "  first_name   last_name report_primary_injury report_secondary_injury  \\\n",
       "0      Chris       Wells                  Knee                     NaN   \n",
       "1      Jason      Wright                   Toe                     NaN   \n",
       "2    Michael       Adams              Shoulder                     NaN   \n",
       "3       Will       Davis                  Knee                     NaN   \n",
       "4      Larry  Fitzgerald                  Knee                     NaN   \n",
       "5        Ben     Patrick                  Knee                     NaN   \n",
       "6       Joey      Porter                  Back                     NaN   \n",
       "7      Andre     Roberts              Shoulder                     NaN   \n",
       "8    Michael     Jenkins              Shoulder                     NaN   \n",
       "9      Brent      Grimes                   Hip                     NaN   \n",
       "\n",
       "  report_status practice_primary_injury practice_secondary_injury  \\\n",
       "0  Questionable                    Knee                       NaN   \n",
       "1  Questionable                     Toe                       NaN   \n",
       "2      Probable                Shoulder                       NaN   \n",
       "3      Probable                    Knee                       NaN   \n",
       "4      Probable                    Knee                       NaN   \n",
       "5      Probable                    Knee                       NaN   \n",
       "6      Probable                    Back                       NaN   \n",
       "7      Probable                Shoulder                       NaN   \n",
       "8           Out                Shoulder                       NaN   \n",
       "9  Questionable                     Hip                       NaN   \n",
       "\n",
       "                     practice_status        date_modified  \n",
       "0    Did Not Participate In Practice  2010-09-10 12:13:53  \n",
       "1  Limited Participation in Practice  2010-09-10 12:13:44  \n",
       "2     Full Participation in Practice                  NaN  \n",
       "3     Full Participation in Practice                  NaN  \n",
       "4     Full Participation in Practice                  NaN  \n",
       "5     Full Participation in Practice                  NaN  \n",
       "6     Full Participation in Practice                  NaN  \n",
       "7     Full Participation in Practice                  NaN  \n",
       "8    Did Not Participate In Practice  2010-09-10 12:53:27  \n",
       "9     Full Participation in Practice  2010-09-10 12:52:50  "
      ]
     },
     "execution_count": 39,
     "metadata": {},
     "output_type": "execute_result"
    }
   ],
   "source": [
    "injuries.head(10)"
   ]
  },
  {
   "cell_type": "code",
   "execution_count": 40,
   "metadata": {},
   "outputs": [
    {
     "name": "stdout",
     "output_type": "stream",
     "text": [
      "(51119, 16)\n",
      "<class 'pandas.core.frame.DataFrame'>\n",
      "RangeIndex: 51119 entries, 0 to 51118\n",
      "Data columns (total 16 columns):\n",
      " #   Column                     Non-Null Count  Dtype  \n",
      "---  ------                     --------------  -----  \n",
      " 0   season                     51119 non-null  float64\n",
      " 1   game_type                  51119 non-null  object \n",
      " 2   team                       51119 non-null  object \n",
      " 3   week                       51119 non-null  float64\n",
      " 4   gsis_id                    51119 non-null  object \n",
      " 5   position                   51119 non-null  object \n",
      " 6   full_name                  51119 non-null  object \n",
      " 7   first_name                 51119 non-null  object \n",
      " 8   last_name                  51119 non-null  object \n",
      " 9   report_primary_injury      39778 non-null  object \n",
      " 10  report_secondary_injury    2145 non-null   object \n",
      " 11  report_status              39778 non-null  object \n",
      " 12  practice_primary_injury    51074 non-null  object \n",
      " 13  practice_secondary_injury  2773 non-null   object \n",
      " 14  practice_status            51119 non-null  object \n",
      " 15  date_modified              51057 non-null  object \n",
      "dtypes: float64(2), object(14)\n",
      "memory usage: 6.2+ MB\n",
      "None\n"
     ]
    }
   ],
   "source": [
    "# Vemos la informacion que nos da el *segundo* dataset*\n",
    "print(injuries.shape)\n",
    "print(injuries.info())"
   ]
  },
  {
   "cell_type": "code",
   "execution_count": 41,
   "metadata": {},
   "outputs": [
    {
     "name": "stdout",
     "output_type": "stream",
     "text": [
      "season                          10\n",
      "game_type                        5\n",
      "team                            34\n",
      "week                            21\n",
      "gsis_id                       4470\n",
      "position                        17\n",
      "full_name                     4416\n",
      "first_name                    1575\n",
      "last_name                     2522\n",
      "report_primary_injury          164\n",
      "report_secondary_injury        103\n",
      "report_status                    4\n",
      "practice_primary_injury        194\n",
      "practice_secondary_injury      130\n",
      "practice_status                  5\n",
      "date_modified                31553\n",
      "dtype: int64\n"
     ]
    }
   ],
   "source": [
    "# Vemos los unicos de cada columna\n",
    "\n",
    "print(injuries.nunique())"
   ]
  },
  {
   "attachments": {},
   "cell_type": "markdown",
   "metadata": {},
   "source": [
    "### **Limpieza de nuestros datasets**\n",
    "-   Primer dataset:"
   ]
  },
  {
   "cell_type": "code",
   "execution_count": 42,
   "metadata": {},
   "outputs": [],
   "source": [
    "# Eliminamos todas las columnas innecesarias y las organizamos.\n",
    "\n",
    "ranks_nfl = ranks_nfl.reindex(columns=[\"Rank\", \"Player\", \"Position\", \"Year\"])"
   ]
  },
  {
   "cell_type": "code",
   "execution_count": 43,
   "metadata": {},
   "outputs": [],
   "source": [
    "# Cambiamos los nombres en nuestra columna \"Position\"\n",
    "\n",
    "ranks_nfl[\"Position\"].replace({\"Wide Receiver\":\"Wide receiver\",\n",
    "                              \"Fullback\":\"Running back\",\n",
    "                              \"Strong safety\":\"Safety\",\n",
    "                              \"Free safety\":\"Safety\",\n",
    "                              \"Outside linebacker\":\"Linebacker\",\n",
    "                              \"Offensive Tackle\" :\"Offensive tackle\",\n",
    "                              \"Defensive Tackle\":\"Defensive tackle\"}, inplace=True)"
   ]
  },
  {
   "attachments": {},
   "cell_type": "markdown",
   "metadata": {},
   "source": [
    "-   Segundo dataset:"
   ]
  },
  {
   "cell_type": "code",
   "execution_count": 44,
   "metadata": {},
   "outputs": [],
   "source": [
    "# Procedemos a eliminar columnas que no son importantes y de paso estandarizamos varios los nombres de las columnas\n",
    "injuries.drop(columns=[\"gsis_id\", \n",
    "                       \"first_name\",\n",
    "                       \"last_name\",\n",
    "                       \"report_secondary_injury\",\n",
    "                       \"practice_secondary_injury\",\n",
    "                       \"date_modified\"],\n",
    "              inplace=True)\n",
    "injuries.rename(columns={'season':'Year',\n",
    "                         'game_type':'Season',\n",
    "                         'team':'Team',\n",
    "                         'position':'Position',\n",
    "                         'full_name': 'Player',\n",
    "                         'week': 'Week'},\n",
    "                inplace=True)"
   ]
  },
  {
   "cell_type": "code",
   "execution_count": 45,
   "metadata": {},
   "outputs": [
    {
     "name": "stdout",
     "output_type": "stream",
     "text": [
      "<class 'pandas.core.frame.DataFrame'>\n",
      "Int64Index: 39733 entries, 0 to 51111\n",
      "Data columns (total 10 columns):\n",
      " #   Column                   Non-Null Count  Dtype  \n",
      "---  ------                   --------------  -----  \n",
      " 0   Year                     39733 non-null  float64\n",
      " 1   Season                   39733 non-null  object \n",
      " 2   Team                     39733 non-null  object \n",
      " 3   Week                     39733 non-null  float64\n",
      " 4   Position                 39733 non-null  object \n",
      " 5   Player                   39733 non-null  object \n",
      " 6   report_primary_injury    39733 non-null  object \n",
      " 7   report_status            39733 non-null  object \n",
      " 8   practice_primary_injury  39733 non-null  object \n",
      " 9   practice_status          39733 non-null  object \n",
      "dtypes: float64(2), object(8)\n",
      "memory usage: 3.3+ MB\n"
     ]
    }
   ],
   "source": [
    "# eliminamos los valores faltantes y vemos como se va reduciendo nuestro dataset\n",
    "\n",
    "injuries.dropna(inplace=True)\n",
    "injuries.info()"
   ]
  },
  {
   "cell_type": "code",
   "execution_count": 46,
   "metadata": {},
   "outputs": [],
   "source": [
    "# Nos centraremos en jugadores que realmente están reportados como lesionados\n",
    "\n",
    "injuries = injuries.loc[(injuries[\"practice_status\"]== injuries[\"practice_status\"].unique()[0]) | (injuries[\"practice_status\"]== injuries[\"practice_status\"].unique()[-1]) ]"
   ]
  },
  {
   "cell_type": "code",
   "execution_count": 47,
   "metadata": {},
   "outputs": [],
   "source": [
    "# Nuestro análisis se centrará en la temporada regular\n",
    "\n",
    "injuries = injuries[injuries[\"Season\"].str.contains(\"REG\")]"
   ]
  },
  {
   "cell_type": "code",
   "execution_count": 48,
   "metadata": {},
   "outputs": [],
   "source": [
    "# Limpiamos la columna \"Position\"\n",
    "\n",
    "injuries[\"Position\"].replace({\"LB\":\"Linebacker\",\n",
    "                              \"WR\":\"Wide receiver\",\n",
    "                              \"CB\":\"Cornerback\",\n",
    "                              \"RB\":\"Running back\",\n",
    "                              \"S\":\"Safety\",\n",
    "                              \"DE\":\"Defense end\",\n",
    "                              \"T\":\"Offensive tackle\",\n",
    "                              \"DT\":\"Defensive tackle\",\n",
    "                              \"TE\": \"Tight end\",\n",
    "                              \"G\": \"Guard\",\n",
    "                              \"QB\":\"Quarterback\",\n",
    "                              \"C\": \"Center\",\n",
    "                              \"K\": \"Kicker\",\n",
    "                              \"P\": \"Punter\",\n",
    "                              \"LS\":\"Long snapper\",\n",
    "                              \"KR\": \"Kicker returner\",\n",
    "                              \"PR\":\"Punt returner\",}, inplace=True)\n"
   ]
  },
  {
   "cell_type": "code",
   "execution_count": 49,
   "metadata": {},
   "outputs": [],
   "source": [
    "# Estandarizamos nuestras columnas para dejarlas en una categoría correspondiente.\n",
    "\n",
    "injuries[\"report_primary_injury\"].replace({\"left Shoulder\":\"Shoulder\",\n",
    "                                   \"right Shoulder\":\"Shoulder\",\n",
    "                                   \"Right Shoulder\":\"Shoulder\",\n",
    "                                   \"migraines\":\"Migraines\",\n",
    "                                   \"(migraines)\":\"Migraines\",\n",
    "                                   \"left Groin\":\"Groin\",\n",
    "                                   \"right Groin\":\"Groin\",\n",
    "                                   \"left Forearm\":\"Forearm\",\n",
    "                                   \"right Knee\":\"Knee\",\n",
    "                                   \"left Knee\":\"Knee\",\n",
    "                                   \"right Finger\":\"Finger\",\n",
    "                                   \"right hip\":\"Hip\",\n",
    "                                   \"Quadricep\":\"Quadriceps\",\n",
    "                                   \"right Quadricep\":\"Quadriceps\",\n",
    "                                   \"rt. thumb\":\"Thumb\",\n",
    "                                   \"right Thumb\":\"Thumb\",\n",
    "                                   \"left Calf\": \"Calf\",\n",
    "                                   \"right Calf\": \"Calf\",\n",
    "                                   \"groin, knee, ankle\": \"Multiple\",\n",
    "                                   \"Shoulder, Finger\": \"Multiple\",\n",
    "                                   \"Bicep\":\"Biceps\",\n",
    "                                   \"right Elbow\": \"Elbow\",\n",
    "                                   \"Core\": \"Core Muscle\",\n",
    "                                   \"Core Muscle Injury\": \"Core Muscle\",\n",
    "                                   \"Right Collarbone\": \"Collarbone\",\n",
    "                                   \"Medical Illness\":\"Illness\",\n",
    "                                   \"left Wrist\": \"Wrist\",\n",
    "                                   \"right Hamstring\":\"Hamstring\",\n",
    "                                   \"Triceps\":\"Triceps\",\n",
    "                                   \"right Hip\":\"Hip\",}, inplace=True)\n",
    "\n",
    "\n",
    "injuries[\"practice_primary_injury\"].replace({\"left Shoulder\":\"Shoulder\",\n",
    "                                   \"right Shoulder\":\"Shoulder\",\n",
    "                                   \"Right Shoulder\":\"Shoulder\",\n",
    "                                   \"migraines\":\"Migraines\",\n",
    "                                   \"(migraines)\":\"Migraines\",\n",
    "                                   \"left Groin\":\"Groin\",\n",
    "                                   \"right Groin\":\"Groin\",\n",
    "                                   \"left Forearm\":\"Forearm\",\n",
    "                                   \"right Knee\":\"Knee\",\n",
    "                                   \"left Knee\":\"Knee\",\n",
    "                                   \"right Finger\":\"Finger\",\n",
    "                                   \"right hip\":\"Hip\",\n",
    "                                   \"Quadricep\":\"Quadriceps\",\n",
    "                                   \"right Quadricep\":\"Quadriceps\",\n",
    "                                   \"rt. thumb\":\"Thumb\",\n",
    "                                   \"right Thumb\":\"Thumb\",\n",
    "                                   \"left Calf\": \"Calf\",\n",
    "                                   \"right Calf\": \"Calf\",\n",
    "                                   \"groin, knee, ankle\": \"Multiple\",\n",
    "                                   \"Shoulder, Finger\": \"Multiple\",\n",
    "                                   \"Bicep\":\"Biceps\",\n",
    "                                   \"right Elbow\": \"Elbow\",\n",
    "                                   \"Core\": \"Core Muscle\",\n",
    "                                   \"Core Muscle Injury\": \"Core Muscle\",\n",
    "                                   \"Right Collarbone\": \"Collarbone\",\n",
    "                                   \"Medical Illness\":\"Illness\",\n",
    "                                   \"left Wrist\": \"Wrist\",\n",
    "                                   \"right Hamstring\":\"Hamstring\",\n",
    "                                   \"Triceps\":\"Triceps\",\n",
    "                                   \"right Hip\":\"Hip\",\n",
    "                                   \"oblique\": \"Oblique\"}, inplace=True)"
   ]
  },
  {
   "cell_type": "code",
   "execution_count": 50,
   "metadata": {},
   "outputs": [
    {
     "data": {
      "text/html": [
       "<div>\n",
       "<style scoped>\n",
       "    .dataframe tbody tr th:only-of-type {\n",
       "        vertical-align: middle;\n",
       "    }\n",
       "\n",
       "    .dataframe tbody tr th {\n",
       "        vertical-align: top;\n",
       "    }\n",
       "\n",
       "    .dataframe thead th {\n",
       "        text-align: right;\n",
       "    }\n",
       "</style>\n",
       "<table border=\"1\" class=\"dataframe\">\n",
       "  <thead>\n",
       "    <tr style=\"text-align: right;\">\n",
       "      <th></th>\n",
       "      <th>Year</th>\n",
       "      <th>Season</th>\n",
       "      <th>Team</th>\n",
       "      <th>Week</th>\n",
       "      <th>Position</th>\n",
       "      <th>Player</th>\n",
       "      <th>report_primary_injury</th>\n",
       "      <th>report_status</th>\n",
       "      <th>practice_primary_injury</th>\n",
       "      <th>practice_status</th>\n",
       "    </tr>\n",
       "  </thead>\n",
       "  <tbody>\n",
       "    <tr>\n",
       "      <th>20</th>\n",
       "      <td>2010.0</td>\n",
       "      <td>REG</td>\n",
       "      <td>BUF</td>\n",
       "      <td>1.0</td>\n",
       "      <td>Linebacker</td>\n",
       "      <td>Reggie Torbor</td>\n",
       "      <td>Chest</td>\n",
       "      <td>Out</td>\n",
       "      <td>Chest</td>\n",
       "      <td>Did Not Participate In Practice</td>\n",
       "    </tr>\n",
       "  </tbody>\n",
       "</table>\n",
       "</div>"
      ],
      "text/plain": [
       "      Year Season Team  Week    Position         Player report_primary_injury  \\\n",
       "20  2010.0    REG  BUF   1.0  Linebacker  Reggie Torbor                 Chest   \n",
       "\n",
       "   report_status practice_primary_injury                  practice_status  \n",
       "20           Out                   Chest  Did Not Participate In Practice  "
      ]
     },
     "execution_count": 50,
     "metadata": {},
     "output_type": "execute_result"
    }
   ],
   "source": [
    "# Comprobamos el estado de nuestro dataset\n",
    "\n",
    "injuries.iloc[[7]]"
   ]
  },
  {
   "cell_type": "code",
   "execution_count": 51,
   "metadata": {},
   "outputs": [],
   "source": [
    "# Procedemos dejarlo con índice correcto\n",
    "\n",
    "injuries.reset_index(drop=True, inplace=True)"
   ]
  },
  {
   "attachments": {},
   "cell_type": "markdown",
   "metadata": {},
   "source": [
    "###  **Análisis univariante**\n",
    "\n",
    "Como podemos observar nuestros datasets fudamentalmente se caracterizan por ser de tipo categórico. Procedemos a valorar."
   ]
  },
  {
   "attachments": {},
   "cell_type": "markdown",
   "metadata": {},
   "source": [
    "-   Primer dataset:"
   ]
  },
  {
   "cell_type": "code",
   "execution_count": 52,
   "metadata": {},
   "outputs": [
    {
     "name": "stdout",
     "output_type": "stream",
     "text": [
      "Wide receiver       166\n",
      "Quarterback         140\n",
      "Linebacker          134\n",
      "Running back        111\n",
      "Defensive end       106\n",
      "Cornerback           78\n",
      "Safety               62\n",
      "Defensive tackle     62\n",
      "Tight end            54\n",
      "Offensive tackle     49\n",
      "Guard                25\n",
      "Center               12\n",
      "Kicker                1\n",
      "Name: Position, dtype: int64\n"
     ]
    }
   ],
   "source": [
    "pos_rank = ranks_nfl[\"Position\"].value_counts()\n",
    "print(pos_rank)"
   ]
  },
  {
   "cell_type": "code",
   "execution_count": 58,
   "metadata": {},
   "outputs": [
    {
     "data": {
      "image/png": "[encoded data removed]",
      "text/plain": [
       "<Figure size 640x480 with 1 Axes>"
      ]
     },
     "metadata": {},
     "output_type": "display_data"
    }
   ],
   "source": [
    "# Hacemos una pequeña visualización\n",
    "\n",
    "pos_rank.plot(kind='bar', title= \"Ranking total por posición\");\n"
   ]
  },
  {
   "attachments": {},
   "cell_type": "markdown",
   "metadata": {},
   "source": [
    "-   Segundo dataset:"
   ]
  },
  {
   "cell_type": "code",
   "execution_count": 118,
   "metadata": {},
   "outputs": [
    {
     "name": "stdout",
     "output_type": "stream",
     "text": [
      "Week\n",
      "3.0     849\n",
      "5.0     840\n",
      "4.0     826\n",
      "13.0    804\n",
      "6.0     796\n",
      "7.0     796\n",
      "14.0    794\n",
      "17.0    785\n",
      "12.0    779\n",
      "15.0    778\n",
      "11.0    723\n",
      "8.0     716\n",
      "2.0     708\n",
      "10.0    698\n",
      "9.0     693\n",
      "16.0    682\n",
      "1.0     544\n",
      "dtype: int64\n"
     ]
    }
   ],
   "source": [
    "report = injuries[[\"Week\"]].value_counts()\n",
    "print(report)"
   ]
  },
  {
   "cell_type": "code",
   "execution_count": 120,
   "metadata": {},
   "outputs": [
    {
     "data": {
      "image/png": "[encoded data removed]",
      "text/plain": [
       "<Figure size 1200x400 with 1 Axes>"
      ]
     },
     "metadata": {},
     "output_type": "display_data"
    }
   ],
   "source": [
    "plt.figure(figsize=(12, 4))\n",
    "report.plot(kind='bar', title= \"Lesionados por semanas\");"
   ]
  },
  {
   "attachments": {},
   "cell_type": "markdown",
   "metadata": {},
   "source": [
    "###  **Análisis bivariante**\n",
    "\n",
    "Empezamos a buscar relaciones en nuestros dataset"
   ]
  },
  {
   "cell_type": "code",
   "execution_count": 90,
   "metadata": {},
   "outputs": [],
   "source": [
    "cross_tab = pd.crosstab(index = injuries.Year, columns=injuries.Position)\n",
    "cross_tab_matrix = np.array(cross_tab)"
   ]
  },
  {
   "cell_type": "code",
   "execution_count": 95,
   "metadata": {},
   "outputs": [
    {
     "data": {
      "text/plain": [
       "Position\n",
       "Center               30.5\n",
       "Cornerback          165.5\n",
       "Defense end         100.5\n",
       "Defensive tackle     80.5\n",
       "Guard                72.5\n",
       "Kicker                7.0\n",
       "Kicker returner       0.0\n",
       "Linebacker          199.5\n",
       "Long snapper          1.5\n",
       "Offensive tackle    101.0\n",
       "Punt returner         0.0\n",
       "Punter                3.0\n",
       "Quarterback          34.5\n",
       "Running back        120.5\n",
       "Safety              108.0\n",
       "Tight end            85.0\n",
       "Wide receiver       155.5\n",
       "dtype: float64"
      ]
     },
     "execution_count": 95,
     "metadata": {},
     "output_type": "execute_result"
    }
   ],
   "source": [
    "media_pos = cross_tab.median()\n",
    "media_pos"
   ]
  },
  {
   "cell_type": "code",
   "execution_count": 96,
   "metadata": {},
   "outputs": [
    {
     "data": {
      "image/png": "[encoded data removed]",
      "text/plain": [
       "<Figure size 640x480 with 1 Axes>"
      ]
     },
     "metadata": {},
     "output_type": "display_data"
    }
   ],
   "source": [
    "media_pos.plot(kind = 'barh');"
   ]
  },
  {
   "cell_type": "code",
   "execution_count": 98,
   "metadata": {},
   "outputs": [
    {
     "data": {
      "text/plain": [
       "Position\n",
       "Center               25\n",
       "Cornerback          173\n",
       "Defense end         116\n",
       "Defensive tackle     76\n",
       "Guard                63\n",
       "Kicker               17\n",
       "Kicker returner       1\n",
       "Linebacker          206\n",
       "Long snapper          1\n",
       "Offensive tackle    106\n",
       "Punt returner         0\n",
       "Punter                2\n",
       "Quarterback          59\n",
       "Running back        122\n",
       "Safety              105\n",
       "Tight end            73\n",
       "Wide receiver       153\n",
       "Name: 2010.0, dtype: int64"
      ]
     },
     "execution_count": 98,
     "metadata": {},
     "output_type": "execute_result"
    }
   ],
   "source": [
    "cross_tab.iloc[0]"
   ]
  },
  {
   "cell_type": "code",
   "execution_count": 106,
   "metadata": {},
   "outputs": [
    {
     "data": {
      "text/plain": [
       "<Figure size 2000x400 with 0 Axes>"
      ]
     },
     "metadata": {},
     "output_type": "display_data"
    },
    {
     "data": {
      "image/png": "[encoded data removed]",
      "text/plain": [
       "<Figure size 640x480 with 1 Axes>"
      ]
     },
     "metadata": {},
     "output_type": "display_data"
    }
   ],
   "source": [
    "plt.figure(figsize=(20, 4));\n",
    "cross_tab.plot();"
   ]
  },
  {
   "attachments": {},
   "cell_type": "markdown",
   "metadata": {},
   "source": [
    "plano general de las lesiones anualmente "
   ]
  },
  {
   "cell_type": "code",
   "execution_count": 99,
   "metadata": {},
   "outputs": [
    {
     "data": {
      "text/plain": [
       "Center  Cornerback  Defense end  Defensive tackle  Guard  Kicker  Kicker returner  Linebacker  Long snapper  Offensive tackle  Punt returner  Punter  Quarterback  Running back  Safety  Tight end  Wide receiver\n",
       "21      156         124          73                71     16      2                202         1             113               1              4       58           142           111     74         203              1\n",
       "25      168         89           75                82     8       0                164         1             124               0              4       28           103           104     99         184              1\n",
       "        173         116          76                63     17      1                206         1             106               0              2       59           122           105     73         153              1\n",
       "        179         91           83                74     9       0                156         4             85                0              3       36           119           114     94         149              1\n",
       "29      163         98           110               61     6       0                169         2             83                0              4       25           143           133     62         158              1\n",
       "32      163         90           69                81     12      0                151         2             76                0              1       22           85            126     85         166              1\n",
       "38      140         106          102               57     5       0                237         0             96                0              3       40           108           123     85         194              1\n",
       "        185         109          88                83     6       0                247         2             96                0              7       33           125           93      105        124              1\n",
       "46      144         85           78                83     6       0                218         1             120               0              0       31           95            104     79         140              1\n",
       "57      180         103          101               59     0       0                197         7             123               0              1       39           131           104     104        144              1\n",
       "dtype: int64"
      ]
     },
     "execution_count": 99,
     "metadata": {},
     "output_type": "execute_result"
    }
   ],
   "source": [
    "cross_tab.value_counts()"
   ]
  },
  {
   "cell_type": "code",
   "execution_count": 101,
   "metadata": {},
   "outputs": [
    {
     "name": "stdout",
     "output_type": "stream",
     "text": [
      "Estadístico chi-cuadrado: 358.73312022510083\n",
      "Valor p: 2.5373371502175882e-20\n",
      "Grados de libertad: 144\n",
      "Tabla de frecuencias esperadas:\n",
      " [[3.40432441e+01 1.67277964e+02 1.02433690e+02 8.66278979e+01\n",
      "  7.23418937e+01 8.61213020e+00 3.03957536e-01 1.97268441e+02\n",
      "  2.12770276e+00 1.03548201e+02 1.01319179e-01 2.93825619e+00\n",
      "  3.75894153e+01 1.18847397e+02 1.13173523e+02 8.71344938e+01\n",
      "  1.63630474e+02]\n",
      " [3.59840762e+01 1.76814612e+02 1.08273515e+02 9.15666224e+01\n",
      "  7.64661619e+01 9.10311451e+00 3.21286395e-01 2.08514870e+02\n",
      "  2.24900476e+00 1.09451565e+02 1.07095465e-01 3.10576848e+00\n",
      "  3.97324175e+01 1.25622980e+02 1.19625634e+02 9.21020998e+01\n",
      "  1.72959176e+02]\n",
      " [3.26794161e+01 1.60576536e+02 9.83300289e+01 8.31574428e+01\n",
      "  6.94437593e+01 8.26711420e+00 2.91780501e-01 1.89365545e+02\n",
      "  2.04246351e+00 9.93998907e+01 9.72601670e-02 2.82054484e+00\n",
      "  3.60835220e+01 1.14086176e+02 1.08639607e+02 8.36437437e+01\n",
      "  1.57075170e+02]\n",
      " [3.20237296e+01 1.57354695e+02 9.63571150e+01 8.14889548e+01\n",
      "  6.80504254e+01 8.10124112e+00 2.85926157e-01 1.85566076e+02\n",
      "  2.00148310e+00 9.74055109e+01 9.53087191e-02 2.76395285e+00\n",
      "  3.53595348e+01 1.11797127e+02 1.06459839e+02 8.19654984e+01\n",
      "  1.53923581e+02]\n",
      " [3.51710249e+01 1.72819530e+02 1.05827102e+02 8.94976973e+01\n",
      "  7.47384279e+01 8.89743189e+00 3.14027008e-01 2.03803528e+02\n",
      "  2.19818906e+00 1.06978534e+02 1.04675669e-01 3.03559441e+00\n",
      "  3.88346733e+01 1.22784560e+02 1.16922723e+02 9.00210756e+01\n",
      "  1.69051206e+02]\n",
      " [3.49874327e+01 1.71917415e+02 1.05274686e+02 8.90305206e+01\n",
      "  7.43482944e+01 8.85098743e+00 3.12387792e-01 2.02739677e+02\n",
      "  2.18671454e+00 1.06420108e+02 1.04129264e-01 3.01974865e+00\n",
      "  3.86319569e+01 1.22143627e+02 1.16312388e+02 8.95511670e+01\n",
      "  1.68168761e+02]\n",
      " [3.54070720e+01 1.73979393e+02 1.06537351e+02 9.00983530e+01\n",
      "  7.52400281e+01 8.95714620e+00 3.16134572e-01 2.05171337e+02\n",
      "  2.21294200e+00 1.07696511e+02 1.05378191e-01 3.05596753e+00\n",
      "  3.90953087e+01 1.23608618e+02 1.17707439e+02 9.06252439e+01\n",
      "  1.70185778e+02]\n",
      " [3.22597768e+01 1.58514558e+02 9.70673640e+01 8.20896105e+01\n",
      "  6.85520256e+01 8.16095543e+00 2.88033721e-01 1.86933885e+02\n",
      "  2.01623605e+00 9.81234876e+01 9.60112403e-02 2.78432597e+00\n",
      "  3.56201702e+01 1.12621185e+02 1.07244555e+02 8.25696667e+01\n",
      "  1.55058153e+02]\n",
      " [3.04500820e+01 1.49622278e+02 9.16221216e+01 7.74845836e+01\n",
      "  6.47064242e+01 7.70314573e+00 2.71875732e-01 1.76447350e+02\n",
      "  1.90313012e+00 9.26189993e+01 9.06252439e-02 2.62813207e+00\n",
      "  3.36219655e+01 1.06303411e+02 1.01228397e+02 7.79377098e+01\n",
      "  1.46359769e+02]\n",
      " [3.29941457e+01 1.62123019e+02 9.92770276e+01 8.39583171e+01\n",
      "  7.01125595e+01 8.34673328e+00 2.94590586e-01 1.91189290e+02\n",
      "  2.06213410e+00 1.00357193e+02 9.81968621e-02 2.84770900e+00\n",
      "  3.64310358e+01 1.15184919e+02 1.09685895e+02 8.44493014e+01\n",
      "  1.58587932e+02]]\n"
     ]
    }
   ],
   "source": [
    "# Realizar la prueba chi-cuadrado\n",
    "estadistico, p_valor, grados_libertad, esperados = chi2_contingency(cross_tab_matrix)\n",
    "\n",
    "# Mostrar los resultados\n",
    "print(\"Estadístico chi-cuadrado:\", estadistico)\n",
    "print(\"Valor p:\", p_valor)\n",
    "print(\"Grados de libertad:\", grados_libertad)\n",
    "print(\"Tabla de frecuencias esperadas:\\n\", esperados)"
   ]
  },
  {
   "cell_type": "code",
   "execution_count": 102,
   "metadata": {},
   "outputs": [
    {
     "name": "stdout",
     "output_type": "stream",
     "text": [
      "Rechazar la hipótesis nula: no hay diferencia significativa entre las frecuencias esperadas y las observadas en las tablas de contingencia.\n"
     ]
    }
   ],
   "source": [
    "# Seleccionamos el grado de significancia\n",
    "alpha = 0.05\n",
    "\n",
    "# Evaluación de p-valor en función del nivel de significación elegido\n",
    "if p_valor < alpha:\n",
    "    print(\"Rechazar la hipótesis nula: no hay diferencia significativa entre las frecuencias esperadas y las observadas en las tablas de contingencia.\")\n",
    "else:\n",
    "    print(\"No se puede rechazar la hipótesis nula: no hay diferencia significativa entre las frecuencias esperadas y las observadas en las tablas de contingencia.\")\n"
   ]
  },
  {
   "attachments": {},
   "cell_type": "markdown",
   "metadata": {},
   "source": [
    "##### ***3. Fuentes***<a id='4'></a>\n",
    "- Datasets: injuries: [Libreria NFL](\"https://pypi.org/project/nfl-data-py/\"), [Wikipedia](\"https://en.wikipedia.org/wiki/NFL_Top_100\")"
   ]
  },
  {
   "cell_type": "code",
   "execution_count": null,
   "metadata": {},
   "outputs": [],
   "source": []
  },
  {
   "attachments": {},
   "cell_type": "markdown",
   "metadata": {},
   "source": [
    "## <a href ='#0'> 🔝 To the moon 🔝 </a>"
   ]
  },
  {
   "cell_type": "markdown",
   "metadata": {},
   "source": []
  }
 ],
 "metadata": {
  "kernelspec": {
   "display_name": "Python 3",
   "language": "python",
   "name": "python3"
  },
  "language_info": {
   "codemirror_mode": {
    "name": "ipython",
    "version": 3
   },
   "file_extension": ".py",
   "mimetype": "text/x-python",
   "name": "python",
   "nbconvert_exporter": "python",
   "pygments_lexer": "ipython3",
   "version": "3.10.10"
  },
  "orig_nbformat": 4,
  "vscode": {
   "interpreter": {
    "hash": "bd385fe162c5ca0c84973b7dd5c518456272446b2b64e67c2a69f949ca7a1754"
   }
  }
 },
 "nbformat": 4,
 "nbformat_minor": 2
}
